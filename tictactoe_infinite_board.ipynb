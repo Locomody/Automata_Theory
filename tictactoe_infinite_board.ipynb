{
 "cells": [
  {
   "cell_type": "code",
   "execution_count": 22,
   "id": "quality-chance",
   "metadata": {},
   "outputs": [],
   "source": [
    "from prettytable import PrettyTable\n",
    "from typing import List, Tuple"
   ]
  },
  {
   "cell_type": "code",
   "execution_count": 27,
   "id": "plastic-vintage",
   "metadata": {},
   "outputs": [
    {
     "name": "stdout",
     "output_type": "stream",
     "text": [
      "+---+---+---+---+---+---+---+---+---+---+\n",
      "|   | 0 | 1 | 2 | 3 | 4 | 5 | 6 | 7 | 8 |\n",
      "+---+---+---+---+---+---+---+---+---+---+\n",
      "| 0 | - | - | - | - | - | - | - | - | - |\n",
      "| 1 | - | - | - | - | - | - | - | - | - |\n",
      "| 2 | - | - | - | - | - | - | - | - | - |\n",
      "| 3 | - | - | - | - | - | - | - | - | - |\n",
      "| 4 | - | - | - | - | - | - | - | - | - |\n",
      "| 5 | - | - | - | - | - | - | - | - | - |\n",
      "| 6 | - | - | - | - | - | - | - | - | - |\n",
      "| 7 | - | - | - | - | - | - | - | - | - |\n",
      "| 8 | - | - | - | - | - | - | - | - | - |\n",
      "+---+---+---+---+---+---+---+---+---+---+\n"
     ]
    }
   ],
   "source": [
    "class Board:\n",
    "\n",
    "    def __init__(self, board: List[List[str]]) -> None:\n",
    "        self.__board = board\n",
    "\n",
    "    def __getitem__(self, item: int):\n",
    "        return self.__board[item]\n",
    "\n",
    "    def __setitem__(self, key: int, value: str) -> None:\n",
    "        self.__board[key] = value\n",
    "\n",
    "    def __eq__(self, other: List[List[str]]):\n",
    "        return self.__board == other.__board\n",
    "\n",
    "    def __str__(self) -> str:\n",
    "        table_head = [\"\"] + [i for i in range(9)]\n",
    "        table = PrettyTable(table_head)\n",
    "        for i, row in enumerate(self.__board):\n",
    "            table.add_row([i] + row)\n",
    "\n",
    "        return str(table)\n",
    "\n",
    "\n",
    "class State:\n",
    "\n",
    "    def __init__(self, player: str, board: Board) -> None:\n",
    "        self.player: str = player\n",
    "        self.board: Board = board\n",
    "    \n",
    "class TicTacToe:\n",
    "    \n",
    "    def __init__(self):\n",
    "        self.__current_board_state = State(\"X\", Board([[\"-\"] * 8 for i in range(10)]))\n",
    "        self.__input_alphabet = {(i, j) for i in range(8) for j in range(8)}\n",
    "        self.__filled_cells = dict()\n",
    "    \n",
    "    def next_state(self, input_symbol: Tuple[int, int]):\n",
    "        pass\n",
    "    \n",
    "    def is_final_state(self):\n",
    "        pass\n",
    "    \n",
    "    def focus(self, input_symbol: Tuple[int, int]):\n",
    "        pass\n",
    "      "
   ]
  },
  {
   "cell_type": "code",
   "execution_count": null,
   "id": "marked-decimal",
   "metadata": {},
   "outputs": [],
   "source": []
  }
 ],
 "metadata": {
  "kernelspec": {
   "display_name": "Python 3",
   "language": "python",
   "name": "python3"
  },
  "language_info": {
   "codemirror_mode": {
    "name": "ipython",
    "version": 3
   },
   "file_extension": ".py",
   "mimetype": "text/x-python",
   "name": "python",
   "nbconvert_exporter": "python",
   "pygments_lexer": "ipython3",
   "version": "3.9.2"
  }
 },
 "nbformat": 4,
 "nbformat_minor": 5
}

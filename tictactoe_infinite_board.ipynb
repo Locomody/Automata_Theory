{
 "cells": [
  {
   "cell_type": "markdown",
   "id": "dramatic-flashing",
   "metadata": {
    "tags": []
   },
   "source": [
    "#Mathematical Background\n",
    "\n",
    "We assume an infinite acceptor $\\mathcal{A} = (\\Sigma, \\  \\mathcal{S}, \\  s_0 \\in \\mathcal{S}, \\  \\mathcal{F} \\subset \\mathcal{S}, \\  \\delta: \\mathcal{S} \\times \\Sigma \\rightarrow \\mathcal{S})$, that implements a tic-tac-toe game where:"
   ]
  },
  {
   "cell_type": "code",
   "execution_count": 28,
   "id": "precise-planet",
   "metadata": {},
   "outputs": [],
   "source": [
    "from prettytable import PrettyTable\n",
    "from typing import List, Tuple\n",
    "\n",
    "\n",
    "class Board:\n",
    "\n",
    "    def __init__(self, board: List[List[str]]) -> None:\n",
    "        self.__board = board\n",
    "\n",
    "    def __getitem__(self, item: int):\n",
    "        return self.__board[item]\n",
    "\n",
    "    def __setitem__(self, key: int, value: str) -> None:\n",
    "        self.__board[key] = value\n",
    "\n",
    "    def __eq__(self, other: List[List[str]]):\n",
    "        return self.__board == other.__board\n",
    "\n",
    "    def __str__(self) -> str:\n",
    "        table_head = [\"\"] + [i for i in range(9)]\n",
    "        table = PrettyTable(table_head)\n",
    "        for i, row in enumerate(self.__board):\n",
    "            table.add_row([i] + row)\n",
    "\n",
    "        return str(table)\n",
    "\n",
    "\n",
    "class State:\n",
    "\n",
    "    def __init__(self, player: str, board: Board) -> None:\n",
    "        self.player: str = player\n",
    "        self.board: Board = board\n",
    "\n",
    "    \n",
    "class TicTacToe:\n",
    "    \n",
    "    def __init__(self):\n",
    "        self.__current_board_state = State(\"X\", Board([[\"-\"] * 8 for i in range(10)]))\n",
    "        self.__input_alphabet = {(i, j) for i in range(8) for j in range(8)}\n",
    "        self.__filled_cells = dict()\n",
    "        self.__current_focus = (0, 0)\n",
    "    \n",
    "    def next_state(self, input_symbol: Tuple[int, int]):\n",
    "        \n",
    "        if input_symbol not in self.__input_alphabet:\n",
    "            return \"Oops\"\n",
    "        \n",
    "        elif self.__current_board_state.field[input_symbol[0]][input_symbol[1]] != \"-\":\n",
    "            return \"Oops\"\n",
    "        \n",
    "        else:\n",
    "            self.__current_board_state[input_symbol[0]][input_symbol[1]] = self.__current_board_state.player\n",
    "            \n",
    "            self.__current_board_state.player = \"X\" if self.__current_board_state.player == \"O\" else \"X\"\n",
    "            \n",
    "            new_focus = (self.current_focus[0] + input_symbol[0], self.current_focus[1] + input_symbol[1])\n",
    "            \n",
    "            self.__filled_cells[new_focus] = self.__current_board_state.player\n",
    "            \n",
    "            self.focus(new_focus)\n",
    "            \n",
    "            return self.__current_board_state.field\n",
    "        \n",
    "    def is_final_state(self):\n",
    "        pass\n",
    "    \n",
    "    def focus(self, input_symbol: Tuple[int, int]):\n",
    "        pass\n",
    "      "
   ]
  },
  {
   "cell_type": "code",
   "execution_count": null,
   "id": "fleet-notification",
   "metadata": {},
   "outputs": [],
   "source": []
  }
 ],
 "metadata": {
  "kernelspec": {
   "display_name": "Python 3",
   "language": "python",
   "name": "python3"
  },
  "language_info": {
   "codemirror_mode": {
    "name": "ipython",
    "version": 3
   },
   "file_extension": ".py",
   "mimetype": "text/x-python",
   "name": "python",
   "nbconvert_exporter": "python",
   "pygments_lexer": "ipython3",
   "version": "3.9.2"
  }
 },
 "nbformat": 4,
 "nbformat_minor": 5
}

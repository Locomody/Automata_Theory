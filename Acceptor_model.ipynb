{
  "nbformat": 4,
  "nbformat_minor": 0,
  "metadata": {
    "colab": {
      "name": "Acceptor_model.ipynb",
      "provenance": [],
      "authorship_tag": "ABX9TyNuZKFtL4WNgI3qI94UWOdO",
      "include_colab_link": true
    },
    "kernelspec": {
      "name": "python3",
      "display_name": "Python 3"
    }
  },
  "cells": [
    {
      "cell_type": "markdown",
      "metadata": {
        "id": "view-in-github",
        "colab_type": "text"
      },
      "source": [
        "<a href=\"https://colab.research.google.com/github/Locomody/Automata_Theory/blob/main/Acceptor_model.ipynb\" target=\"_parent\"><img src=\"https://colab.research.google.com/assets/colab-badge.svg\" alt=\"Open In Colab\"/></a>"
      ]
    },
    {
      "cell_type": "markdown",
      "metadata": {
        "id": "OHLmVKFn_c7u"
      },
      "source": [
        ""
      ]
    },
    {
      "cell_type": "markdown",
      "metadata": {
        "id": "oukouU-lTMxq"
      },
      "source": [
        "#Implementation of acceptor model on python.\n",
        "\n",
        "Acceptor is five-element tuple $A = (\\Sigma,\\ S,\\ s_0,\\  F \\subset S\\ , \\delta: S \\times \\Sigma \\rightarrow S)$ where:\n",
        "* $\\sigma$ - finite alphabet \n",
        "* $S$ - finite set of states \n",
        "* $s_0$ - the initial state\n",
        "* $F \\subset \\mathcal{S}$ - finite set of final states\n",
        "* $\\delta: S \\times \\Sigma \\rightarrow S$ - transition function"
      ]
    },
    {
      "cell_type": "code",
      "metadata": {
        "id": "fbhtzh1Msnsb",
        "colab": {
          "base_uri": "https://localhost:8080/"
        },
        "outputId": "fc834e4b-868f-472b-c64a-7c150d356027"
      },
      "source": [
        "from typing import Set, Dict, Union, List\n",
        "\n",
        "\n",
        "class Acceptor:\n",
        "\n",
        "    def __init__(self,\n",
        "                 alphabet: Set[str],\n",
        "                 states: Set[str],\n",
        "                 initial_state: str,\n",
        "                 accepting_states: Set[str],\n",
        "                 transition_function: Dict[str, Dict[str, str]]\n",
        "                 ):\n",
        "\n",
        "        self._alphabet = alphabet\n",
        "        self._states = states\n",
        "        self._initial_state = initial_state\n",
        "        self._accepting_states = accepting_states\n",
        "        self._transition_function = transition_function\n",
        "\n",
        "    def accept(self, word: iterible object) -> bool:\n",
        "        \"\"\"\n",
        "        Check whether the acceptor accepts the word(iteratively).\n",
        "        \n",
        "        :param word: the list of symbols.\n",
        "        :return: True if the acceptor accepts the word, False if not.\n",
        "        \"\"\"\n",
        "\n",
        "        curr_state = self._initial_state\n",
        "\n",
        "        for symbol in word:\n",
        "\n",
        "            if symbol not in self._alphabet:\n",
        "                return False\n",
        "\n",
        "            elif self._transition_function.get(curr_state).get(symbol) is not None:\n",
        "                curr_state = self._transition_function.get(curr_state).get(symbol)\n",
        "\n",
        "            else:\n",
        "                return False\n",
        "        return curr_state in self._accepting_states\n",
        "    \n",
        "    def accept_reccursive(self, word: iterible) -> bool:\n",
        "        \"\"\"\n",
        "        Check whether the acceptor accepts the word(recursively).\n",
        "\n",
        "        :param word: the list of symbols.\n",
        "        :return: True if the acceptor accepts the word, False if not.\n",
        "        \"\"\"\n",
        "        def rec(word, curr_state):\n",
        "\n",
        "            if len(word) == 0:\n",
        "                return curr_state in self._accepting_states\n",
        "        \n",
        "            else:\n",
        "                curr_state = self._transition_function[curr_state][word[0]]\n",
        "                return rec(word[1::], curr_state)\n",
        "        \n",
        "        return rec(word, self._initial_state)\n",
        "    \n",
        "    def __reachable(self, x: Object) -> bool:\n",
        "        \"\"\"\n",
        "        Check weather object is hashable\n",
        "        \n",
        "        :param x: Python object\n",
        "        :return: True if object is hashable False otherwise\n",
        "        \"\"\"\n",
        "        try:\n",
        "            set([x])\n",
        "        except TypeError:\n",
        "            return False\n",
        "        return True\n",
        "    \n",
        "    def __alphabet(*args: iterible object) -> set:\n",
        "        \"\"\"\n",
        "        Returns set of symbols\n",
        "\n",
        "        :param *args: Iterible object\n",
        "        :return: Set that can be an alphabet\n",
        "        \"\"\"\n",
        "        if args == ():\n",
        "            raise ValueError('Alphabet should be nonempty')\n",
        "\n",
        "        if not all(map(ishashable, args)):\n",
        "            raise ValueError('Some argument is not hashable')\n",
        "\n",
        "        return set(args)\n",
        "\n",
        "\n",
        "      \n",
        "\n",
        "    @property\n",
        "    def alphabet(self):\n",
        "        return self._alphabet\n",
        "    \n",
        "    @property\n",
        "    def states(self):\n",
        "        return self._states\n",
        "      \n",
        "    @property\n",
        "    def initial_state(self):\n",
        "        return self._initial_state\n",
        "    \n",
        "    @property\n",
        "    def accepting_states(self):\n",
        "        return self._accepting_states\n",
        "    \n",
        "    @property\n",
        "    def transition_function(self):\n",
        "        return self._transition_function\n",
        "\n",
        "\n",
        "# Example of simple acceptor that accepts series of 1s and 0s if it is even number of 1s in series\n",
        "alphabet = {\"1\", \"0\"}\n",
        "states = {\"even\", \"odd\", \"s3\", \"s4\"}\n",
        "initial_state = \"even\"\n",
        "accepting_states = {\"even\"}\n",
        "transition_function = {\n",
        "    \"even\": {\n",
        "        \"0\": \"even\",\n",
        "        \"1\": \"odd\"\n",
        "    },\n",
        "    \"odd\": {\n",
        "        \"0\": \"odd\",\n",
        "        \"1\": \"even\"\n",
        "    },\n",
        "}\n",
        "even_ones = Acceptor(alphabet, states, initial_state, accepting_states, transition_function)\n",
        "words = [\"1101111\", \"1101011101\", \"100010101110101\"]\n",
        "tuple(even_ones.accept(word) for word in words)\n"
      ],
      "execution_count": null,
      "outputs": [
        {
          "output_type": "execute_result",
          "data": {
            "text/plain": [
              "(True, False, True)"
            ]
          },
          "metadata": {
            "tags": []
          },
          "execution_count": 1
        }
      ]
    },
    {
      "cell_type": "markdown",
      "metadata": {
        "id": "SIhQXPDETVXp"
      },
      "source": [
        "#Delete unreachable states\n",
        "\n",
        "The state $\\mathcal{s}$  of acceptor called unreachable if no string $\\mathcal{w} \\in \\Sigma^*$ for wich $p = \\delta^*(\\mathcal{s_0}, w)$ \n",
        "\n",
        "Algorithm\n",
        "\n",
        "1. Defined reachable states set as $\\{\\mathcal{s_0}\\}$ and new states set as $\\{\\mathcal{s_0}\\}$\n",
        "2.  While new states not empty, we iterate throught all $ a \\in \\Sigma$ and add all $\\delta(\\mathcal{s}, a)$ to new states set if its not in reacheble states set, and then add to reachable states set, for each $\\mathcal{s}$ in states set.\n",
        "3. repeat 2\n",
        "4. states = states - reachable_states "
      ]
    },
    {
      "cell_type": "code",
      "metadata": {
        "id": "RQgETe46Tmup",
        "colab": {
          "base_uri": "https://localhost:8080/"
        },
        "outputId": "968825cd-eec8-4fab-d065-8b399ba076a7"
      },
      "source": [
        "def reachable(acceptor: Acceptor):\n",
        "    \"\"\"\n",
        "    Delete all unreacheble states from acceptor\n",
        "\n",
        "    :param acceptor: acceptor in wich we want to delete unreachable states\n",
        "    :return: new acceptor without unreacheble states\n",
        "    \"\"\"\n",
        "    reachable_states = {acceptor.initial_state}\n",
        "    states = {acceptor.initial_state}\n",
        "\n",
        "    while states:\n",
        "        temp = {acceptor.transition_function[state][symbol] for state in states for symbol in acceptor.alphabet}\n",
        "        states = temp - reachable_states\n",
        "        reachable_states = reachable_states | states\n",
        "    \n",
        "    return Acceptor(acceptor.alphabet, reachable_states, acceptor.initial_state, acceptor.accepting_states, acceptor.transition_function)\n",
        "\n",
        "print(even_ones.states)\n",
        "even_ones = reachable(even_ones)\n",
        "even_ones.states"
      ],
      "execution_count": null,
      "outputs": [
        {
          "output_type": "stream",
          "text": [
            "{'s3', 's4', 'even', 'odd'}\n"
          ],
          "name": "stdout"
        },
        {
          "output_type": "execute_result",
          "data": {
            "text/plain": [
              "{'even', 'odd'}"
            ]
          },
          "metadata": {
            "tags": []
          },
          "execution_count": 2
        }
      ]
    },
    {
      "cell_type": "markdown",
      "metadata": {
        "id": "o8MLQBagy0aJ"
      },
      "source": [
        ""
      ]
    },
    {
      "cell_type": "code",
      "metadata": {
        "id": "tjzBU2K2Tp6c",
        "colab": {
          "base_uri": "https://localhost:8080/"
        },
        "outputId": "cf9cc865-b0bd-439b-f16f-aed32615d8b8"
      },
      "source": [
        "import queue\n",
        "def reduction(acceptor: Acceptor):\n",
        "    def split(state_class, states, symbol):\n",
        "        return {state_class_1 for state_class_1 in state_class\n",
        "                if acceptor.transition_function[state_class_1][symbol] in states}, \\\n",
        "               {state_class_2 for state_class_2 in state_class\n",
        "                if acceptor.transition_function[state_class_2][symbol] not in states}\n",
        "\n",
        "    classes: List[Set[str]] = [acceptor.accepting_states, acceptor.states - acceptor.accepting_states]\n",
        "    states_symbol_pairs_queue = queue.Queue()\n",
        "    for symbol in acceptor.alphabet:\n",
        "        states_symbol_pairs_queue.put((acceptor.accepting_states, symbol))\n",
        "        states_symbol_pairs_queue.put((acceptor.states - acceptor.accepting_states, symbol))\n",
        "    while not states_symbol_pairs_queue.empty():\n",
        "        (states, symbol) = states_symbol_pairs_queue.get()\n",
        "        for state_class in classes:\n",
        "            state_class_1, state_class_2 = split(state_class, states, symbol)\n",
        "            if state_class_1 and state_class_2:\n",
        "                classes.remove(state_class)\n",
        "                classes.append(state_class_1)\n",
        "                classes.append(state_class_2)\n",
        "                for token in acceptor.alphabet:\n",
        "                    states_symbol_pairs_queue.put((state_class_1, token))\n",
        "                    states_symbol_pairs_queue.put((state_class_2, token))\n",
        "    new_states = {state_class.pop() for state_class in classes}\n",
        "    return Acceptor(acceptor.alphabet, new_states, acceptor.initial_state, acceptor.accepting_states, acceptor.transition_function)\n",
        "  \n",
        "alphabet = {\"1\", \"0\"}\n",
        "states = {\"even\", \"odd\", \"odd2\" \"s3\", \"s4\"}\n",
        "initial_state = \"even\"\n",
        "accepting_states = {\"even\"}\n",
        "transition_function = {\n",
        "    \"even\": {\n",
        "        \"0\": \"even\",\n",
        "        \"1\": \"odd\"\n",
        "    },\n",
        "    \"odd\": {\n",
        "        \"0\": \"odd2\",\n",
        "        \"1\": \"even\"\n",
        "    },\n",
        "    \"odd2\": {\n",
        "        \"0\": \"odd\",\n",
        "        \"1\": \"even\"\n",
        "    }\n",
        "}\n",
        "\n",
        "acc = Acceptor(alphabet, states, initial_state, accepting_states, transition_function)\n",
        "print(acc.states)\n",
        "acc = reachable(acc)\n",
        "print(acc.states)\n",
        "acc = reduction(acc)\n",
        "print(acc.states)"
      ],
      "execution_count": null,
      "outputs": [
        {
          "output_type": "stream",
          "text": [
            "{'odd2s3', 's4', 'even', 'odd'}\n",
            "{'odd2', 'even', 'odd'}\n",
            "{'odd2', 'even'}\n"
          ],
          "name": "stdout"
        }
      ]
    },
    {
      "cell_type": "code",
      "metadata": {
        "id": "QO5aGidxX3KQ"
      },
      "source": [
        ""
      ],
      "execution_count": null,
      "outputs": []
    }
  ]
}
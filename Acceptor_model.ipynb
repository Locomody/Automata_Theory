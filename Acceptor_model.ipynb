{
  "nbformat": 4,
  "nbformat_minor": 0,
  "metadata": {
    "colab": {
      "name": "Acceptor_model.ipynb",
      "provenance": [],
      "authorship_tag": "ABX9TyM1qWthBhkd2Du+1TQqDipS",
      "include_colab_link": true
    },
    "kernelspec": {
      "name": "python3",
      "display_name": "Python 3"
    }
  },
  "cells": [
    {
      "cell_type": "markdown",
      "metadata": {
        "id": "view-in-github",
        "colab_type": "text"
      },
      "source": [
        "<a href=\"https://colab.research.google.com/github/Locomody/Automata_Theory/blob/main/Acceptor_model.ipynb\" target=\"_parent\"><img src=\"https://colab.research.google.com/assets/colab-badge.svg\" alt=\"Open In Colab\"/></a>"
      ]
    },
    {
      "cell_type": "markdown",
      "metadata": {
        "id": "OHLmVKFn_c7u"
      },
      "source": [
        ""
      ]
    },
    {
      "cell_type": "markdown",
      "metadata": {
        "id": "oukouU-lTMxq"
      },
      "source": [
        "#Implementation of acceptor model on python.\n",
        "\n",
        "Acceptor is five-element tuple $A = (\\Sigma,\\ S,\\ s_0,\\  F \\subset S\\ , \\delta: S \\times \\Sigma \\rightarrow S)$ where:\n",
        "* $\\sigma$ - finite alphabet \n",
        "* $S$ - finite set of states \n",
        "* $s_0$ - the initial state\n",
        "* $F \\subset \\mathcal{S}$ - finite set of final states\n",
        "* $\\delta: S \\times \\Sigma \\rightarrow S$ - transition function"
      ]
    },
    {
      "cell_type": "code",
      "metadata": {
        "id": "fbhtzh1Msnsb",
        "colab": {
          "base_uri": "https://localhost:8080/"
        },
        "outputId": "f500d614-d54e-4427-d8a2-d723e5fea9ce"
      },
      "source": [
        "from typing import Set, Dict, Union, List\n",
        "\n",
        "\n",
        "class Acceptor:\n",
        "\n",
        "    def __init__(self,\n",
        "                 alphabet: set,\n",
        "                 states: set,\n",
        "                 initial_state,\n",
        "                 accepting_states: set,\n",
        "                 transition_function: dict\n",
        "                 ):\n",
        "        \n",
        "        if not isinstance(alphabet, set):\n",
        "            for symbol in alphabet:\n",
        "                if not self.__is_hashable(symbol):\n",
        "                    raise TypeError(f\"Symbol '{symbol}' of alphabet is not hashable.\")\n",
        "            alphabet = self.__make_alphabet(alphabet)\n",
        "        \n",
        "\n",
        "        if not isinstance(states, set):\n",
        "            raise TypeError(\"States type is not set.\")\n",
        "\n",
        "        if initial_state not in states:\n",
        "            raise ValueError(\"Initial states not in states.\")\n",
        "\n",
        "        if not isinstance(transition_function, dict):\n",
        "            raise TypeError(\"Transition function type is not set.\")\n",
        "        \n",
        "        if not isinstance(accepting_states, set):\n",
        "            raise TypeError(\"Accepting states type is not set.\")\n",
        "        \n",
        "        self.__alphabet = alphabet\n",
        "        self.__states = states\n",
        "        self.__initial_state = initial_state\n",
        "        self.__accepting_states = accepting_states\n",
        "        self.__transition_function = transition_function\n",
        "\n",
        "    def accept(self, word: \"Iterible\") -> bool:\n",
        "        \"\"\"\n",
        "        Check whether the acceptor accepts the word(iteratively).\n",
        "        \n",
        "        :param word: the list of symbols.\n",
        "        :return: True if the acceptor accepts the word, False if not.\n",
        "        \"\"\"\n",
        "\n",
        "        curr_state = self.__initial_state\n",
        "\n",
        "        for symbol in word:\n",
        "\n",
        "            if symbol not in self.__alphabet:\n",
        "                return False\n",
        "\n",
        "            elif self.__transition_function.get((curr_state, symbol)) is not None:\n",
        "                curr_state = self.__transition_function.get((curr_state, symbol))\n",
        "\n",
        "            else:\n",
        "                return False\n",
        "        return curr_state in self.__accepting_states\n",
        "    \n",
        "    def accept_reccursive(self, word: \"Iterible\") -> bool:\n",
        "        \"\"\"\n",
        "        Check whether the acceptor accepts the word(recursively).\n",
        "\n",
        "        :param word: the list of symbols.\n",
        "        :return: True if the acceptor accepts the word, False if not.\n",
        "        \"\"\"\n",
        "        def rec(word, curr_state):\n",
        "\n",
        "            if len(word) == 0:\n",
        "                return curr_state in self.__accepting_states\n",
        "        \n",
        "            else:\n",
        "                curr_state = self.__transition_function[curr_state, word[0]]\n",
        "                return rec(word[1::], curr_state)\n",
        "        \n",
        "        return rec(word, self._initial_state) \n",
        "    \n",
        "    def __is_hashable(self, obj: \"Object\") -> bool:\n",
        "        try:\n",
        "            set([obj])\n",
        "        except TypeError:\n",
        "            return False\n",
        "        return True\n",
        "\n",
        "    \n",
        "    def __make_alphabet(self, *args: \"Iterible\") -> set:\n",
        "        \"\"\"\n",
        "        Returns set of symbols\n",
        "\n",
        "        :return: Set that can be an alphabet\n",
        "        \"\"\"\n",
        "\n",
        "        return set(args)\n",
        "    \n",
        "\n",
        "\n",
        "      \n",
        "\n",
        "    @property\n",
        "    def alphabet(self):\n",
        "        return self.__alphabet\n",
        "    \n",
        "    @property\n",
        "    def states(self):\n",
        "        return self.__states\n",
        "      \n",
        "    @property\n",
        "    def initial_state(self):\n",
        "        return self.__initial_state\n",
        "    \n",
        "    @property\n",
        "    def accepting_states(self):\n",
        "        return self.__accepting_states\n",
        "    \n",
        "    @property\n",
        "    def transition_function(self):\n",
        "        return self.__transition_function\n",
        "\n",
        "\n",
        "# Example of simple acceptor that accepts series of 1s and 0s if it is even number of 1s in series\n",
        "alphabet = {\"1\", \"0\"}\n",
        "states = {\"even\", \"odd\", \"s3\", \"s4\"}\n",
        "initial_state = \"even\"\n",
        "accepting_states = {\"even\"}\n",
        "transition_function = {\n",
        "    (\"even\", \"1\") : \"odd\",\n",
        "    (\"even\", \"0\") : \"even\",\n",
        "    (\"odd\", \"1\") : \"even\",\n",
        "    (\"odd\", \"0\") : \"odd\"\n",
        "}\n",
        "even_ones = Acceptor(alphabet, states, initial_state, accepting_states, transition_function)\n",
        "words = [\"1101111\", \"1101011101\", \"100010101110101\"]\n",
        "tuple(even_ones.accept(word) for word in words)\n"
      ],
      "execution_count": 29,
      "outputs": [
        {
          "output_type": "execute_result",
          "data": {
            "text/plain": [
              "(True, False, True)"
            ]
          },
          "metadata": {
            "tags": []
          },
          "execution_count": 29
        }
      ]
    },
    {
      "cell_type": "markdown",
      "metadata": {
        "id": "SIhQXPDETVXp"
      },
      "source": [
        "#Delete unreachable states\n",
        "\n",
        "The state $s$  of acceptor called unreachable if no string $w \\in \\Sigma^*$ for wich $p = \\delta^*(s_0, w)$ \n",
        "\n",
        "Algorithm\n",
        "\n",
        "1. Defined reachable states set as $\\{s_0\\}$ and new states set as $\\{s_0\\}$\n",
        "2.  While new states not empty, we iterate throught all $ a \\in \\Sigma$ and add all $\\delta(s, a)$ to new states set if its not in reacheble states set, and then add to reachable states set, for each $s$ in states set.\n",
        "3. repeat 2\n",
        "4. states = states - reachable_states "
      ]
    },
    {
      "cell_type": "code",
      "metadata": {
        "id": "RQgETe46Tmup",
        "colab": {
          "base_uri": "https://localhost:8080/"
        },
        "outputId": "9306b95b-94fc-4372-dd09-0d577772cc8b"
      },
      "source": [
        "def reachable(acceptor: Acceptor):\n",
        "    \"\"\"\n",
        "    Delete all unreacheble states from acceptor\n",
        "\n",
        "    :param acceptor: acceptor in wich we want to delete unreachable states\n",
        "    :return: new acceptor without unreacheble states\n",
        "    \"\"\"\n",
        "    reachable_states = {acceptor.initial_state}\n",
        "    states = {acceptor.initial_state}\n",
        "\n",
        "    while states:\n",
        "        temp = {acceptor.transition_function[state, symbol] for state in states for symbol in acceptor.alphabet}\n",
        "        states = temp - reachable_states\n",
        "        reachable_states = reachable_states | states\n",
        "    \n",
        "    return Acceptor(acceptor.alphabet, reachable_states, acceptor.initial_state, acceptor.accepting_states, acceptor.transition_function)\n",
        "\n",
        "print(even_ones.states)\n",
        "even_ones = reachable(even_ones)\n",
        "even_ones.states"
      ],
      "execution_count": 30,
      "outputs": [
        {
          "output_type": "stream",
          "text": [
            "{'s3', 'odd', 's4', 'even'}\n"
          ],
          "name": "stdout"
        },
        {
          "output_type": "execute_result",
          "data": {
            "text/plain": [
              "{'even', 'odd'}"
            ]
          },
          "metadata": {
            "tags": []
          },
          "execution_count": 30
        }
      ]
    },
    {
      "cell_type": "markdown",
      "metadata": {
        "id": "o8MLQBagy0aJ"
      },
      "source": [
        ""
      ]
    },
    {
      "cell_type": "markdown",
      "metadata": {
        "id": "4MdEYoH7mH8s"
      },
      "source": [
        "#Acceptor Reduction\n",
        "\n",
        "Two states $s$ and $s'$ of acceptor $A$ called equivalent if exist no word that brings to differ states:\n",
        "\n",
        "$\\forall \\sigma \\in \\Sigma^*.\\ \\delta^*(s, \\sigma) = \\delta^*(s', \\sigma)$"
      ]
    },
    {
      "cell_type": "code",
      "metadata": {
        "id": "tjzBU2K2Tp6c",
        "colab": {
          "base_uri": "https://localhost:8080/"
        },
        "outputId": "2b1c6f05-c316-45f5-a14d-de06ac2fee89"
      },
      "source": [
        "import queue\n",
        "def reduction(acceptor: Acceptor):\n",
        "    def split(state_class, states, symbol):\n",
        "        return {state_class_1 for state_class_1 in state_class\n",
        "                if acceptor.transition_function[state_class_1, symbol] in states}, \\\n",
        "               {state_class_2 for state_class_2 in state_class\n",
        "                if acceptor.transition_function[state_class_2, symbol] not in states}\n",
        "\n",
        "    classes: List[Set[str]] = [acceptor.accepting_states, acceptor.states - acceptor.accepting_states]\n",
        "    states_symbol_pairs_queue = queue.Queue()\n",
        "    for symbol in acceptor.alphabet:\n",
        "        states_symbol_pairs_queue.put((acceptor.accepting_states, symbol))\n",
        "        states_symbol_pairs_queue.put((acceptor.states - acceptor.accepting_states, symbol))\n",
        "    while not states_symbol_pairs_queue.empty():\n",
        "        (states, symbol) = states_symbol_pairs_queue.get()\n",
        "        for state_class in classes:\n",
        "            state_class_1, state_class_2 = split(state_class, states, symbol)\n",
        "            if state_class_1 and state_class_2:\n",
        "                classes.remove(state_class)\n",
        "                classes.append(state_class_1)\n",
        "                classes.append(state_class_2)\n",
        "                for token in acceptor.alphabet:\n",
        "                    states_symbol_pairs_queue.put((state_class_1, token))\n",
        "                    states_symbol_pairs_queue.put((state_class_2, token))\n",
        "    new_states = {state_class.pop() for state_class in classes}\n",
        "    return Acceptor(acceptor.alphabet, new_states, acceptor.initial_state, acceptor.accepting_states, acceptor.transition_function)\n",
        "  \n",
        "alphabet = {\"1\", \"0\"}\n",
        "states = {\"even\", \"odd\", \"odd2\" \"s3\", \"s4\"}\n",
        "initial_state = \"even\"\n",
        "accepting_states = {\"even\"}\n",
        "transition_function = {\n",
        "    (\"even\", \"0\") : \"even\",\n",
        "    (\"even\", \"1\") : \"odd\",\n",
        "    (\"odd\", \"0\") : \"odd2\",\n",
        "    (\"odd\", \"1\") : \"even\",\n",
        "    (\"odd2\", \"0\") : \"odd\",\n",
        "    (\"odd2\", \"1\") : \"even\"\n",
        "}\n",
        "\n",
        "acc = Acceptor(alphabet, states, initial_state, accepting_states, transition_function)\n",
        "print(acc.states)\n",
        "acc = reachable(acc)\n",
        "print(acc.states)\n",
        "acc = reduction(acc)\n",
        "print(acc.states)"
      ],
      "execution_count": 32,
      "outputs": [
        {
          "output_type": "stream",
          "text": [
            "{'s4', 'odd', 'odd2s3', 'even'}\n",
            "{'odd', 'odd2', 'even'}\n",
            "{'odd', 'even'}\n"
          ],
          "name": "stdout"
        }
      ]
    },
    {
      "cell_type": "code",
      "metadata": {
        "id": "QO5aGidxX3KQ"
      },
      "source": [
        ""
      ],
      "execution_count": 28,
      "outputs": []
    }
  ]
}
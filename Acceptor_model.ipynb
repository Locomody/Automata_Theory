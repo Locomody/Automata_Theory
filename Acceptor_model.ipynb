{
  "nbformat": 4,
  "nbformat_minor": 0,
  "metadata": {
    "colab": {
      "name": "Acceptor_model.ipynb",
      "provenance": [],
      "authorship_tag": "ABX9TyMuSR5hWShecqPMNR5cph02",
      "include_colab_link": true
    },
    "kernelspec": {
      "name": "python3",
      "display_name": "Python 3"
    }
  },
  "cells": [
    {
      "cell_type": "markdown",
      "metadata": {
        "id": "view-in-github",
        "colab_type": "text"
      },
      "source": [
        "<a href=\"https://colab.research.google.com/github/Locomody/Automata_Theory/blob/main/Acceptor_model.ipynb\" target=\"_parent\"><img src=\"https://colab.research.google.com/assets/colab-badge.svg\" alt=\"Open In Colab\"/></a>"
      ]
    },
    {
      "cell_type": "code",
      "metadata": {
        "id": "fbhtzh1Msnsb"
      },
      "source": [
        "from typing import Set, Dict, Union, List\r\n",
        "class Acceptor:\r\n",
        "\r\n",
        "    def __init__(self,\r\n",
        "                 alphabet: Set[str],\r\n",
        "                 states: Set[str],\r\n",
        "                 initial_state: str,\r\n",
        "                 accepting_states: Set[str],\r\n",
        "                 transition_function: Dict[str, Dict[str, str]]\r\n",
        "                 ):\r\n",
        "\r\n",
        "        self._alphabet = alphabet\r\n",
        "        self._states = states\r\n",
        "        self._initial_state = initial_state\r\n",
        "        self._accepting_states = accepting_states\r\n",
        "        self._transition_function = transition_function\r\n",
        "\r\n",
        "    def accept(self, word: Union[List[str], str]) -> bool:\r\n",
        "        \"\"\"\r\n",
        "        Check whether the acceptor accepts the word.\r\n",
        "        :param word: the list of symbols.\r\n",
        "        :return: True if the acceptor accepts the word, False if not.\r\n",
        "        \"\"\"\r\n",
        "\r\n",
        "        curr_state = self._initial_state\r\n",
        "\r\n",
        "        for symbol in word:\r\n",
        "\r\n",
        "            if symbol not in self._alphabet:\r\n",
        "                return False\r\n",
        "\r\n",
        "            elif self._transition_function.get(curr_state).get(symbol) is not None:\r\n",
        "                curr_state = self._transition_function.get(curr_state).get(symbol)\r\n",
        "\r\n",
        "            else:\r\n",
        "                return False\r\n",
        "        return curr_state in self._accepting_states\r\n",
        "\r\n",
        "\r\n",
        "# Example of simple acceptor that accepts series of 1s and 0s if it is even number of 1s in series\r\n",
        "alphabet = {\"1\", \"0\"}\r\n",
        "states = {\"s1\", \"s2\"}\r\n",
        "initial_state = \"s1\"\r\n",
        "accepting_states = {\"s1\"}\r\n",
        "transition_function = {\r\n",
        "    \"s1\": {\r\n",
        "        \"0\": \"s1\",\r\n",
        "        \"1\": \"s2\"\r\n",
        "    },\r\n",
        "    \"s2\": {\r\n",
        "        \"0\": \"s2\",\r\n",
        "        \"1\": \"s1\"\r\n",
        "    },\r\n",
        "}\r\n",
        "even_ones = Acceptor(alphabet, states, initial_state, accepting_states, transition_function)\r\n",
        "word = list(\"110111\")\r\n",
        "print(dfa.accept(word))\r\n"
      ],
      "execution_count": null,
      "outputs": []
    }
  ]
}
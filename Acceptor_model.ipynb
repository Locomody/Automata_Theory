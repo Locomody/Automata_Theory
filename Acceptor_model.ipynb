{
  "nbformat": 4,
  "nbformat_minor": 0,
  "metadata": {
    "colab": {
      "name": "Acceptor_model.ipynb",
      "provenance": [],
      "authorship_tag": "ABX9TyOmBtFoVOX1zpXYaRR5eqJw",
      "include_colab_link": true
    },
    "kernelspec": {
      "name": "python3",
      "display_name": "Python 3"
    }
  },
  "cells": [
    {
      "cell_type": "markdown",
      "metadata": {
        "id": "view-in-github",
        "colab_type": "text"
      },
      "source": [
        "<a href=\"https://colab.research.google.com/github/Locomody/Automata_Theory/blob/main/Acceptor_model.ipynb\" target=\"_parent\"><img src=\"https://colab.research.google.com/assets/colab-badge.svg\" alt=\"Open In Colab\"/></a>"
      ]
    },
    {
      "cell_type": "markdown",
      "metadata": {
        "id": "OHLmVKFn_c7u"
      },
      "source": [
        ""
      ]
    },
    {
      "cell_type": "markdown",
      "metadata": {
        "id": "oukouU-lTMxq"
      },
      "source": [
        "#Implementation of acceptor model on python.\r\n",
        "\r\n",
        "Acceptor is five-element tuple $\\mathcal{A} = (\\Sigma,\\  \\mathcal{S},\\  \\mathcal{s_0},\\  \\mathcal{F} \\subset \\mathcal{S},\\  \\delta: \\mathcal{S} \\times \\Sigma \\rightarrow \\mathcal{S})$ where:\r\n",
        "* $\\sigma$ - finite alphabet \r\n",
        "* $\\mathcal{S}$ - finite set of states \r\n",
        "* $\\mathcal{s_0}$ - the initial state\r\n",
        "* $\\mathcal{F} \\subset \\mathcal{S}$ - finite set of final states\r\n",
        "* $\\delta: \\mathcal{S} \\times \\Sigma \\rightarrow \\mathcal{S}$ - transition function"
      ]
    },
    {
      "cell_type": "code",
      "metadata": {
        "id": "fbhtzh1Msnsb",
        "colab": {
          "base_uri": "https://localhost:8080/"
        },
        "outputId": "fc834e4b-868f-472b-c64a-7c150d356027"
      },
      "source": [
        "from typing import Set, Dict, Union, List\r\n",
        "\r\n",
        "\r\n",
        "class Acceptor:\r\n",
        "\r\n",
        "    def __init__(self,\r\n",
        "                 alphabet: Set[str],\r\n",
        "                 states: Set[str],\r\n",
        "                 initial_state: str,\r\n",
        "                 accepting_states: Set[str],\r\n",
        "                 transition_function: Dict[str, Dict[str, str]]\r\n",
        "                 ):\r\n",
        "\r\n",
        "        self._alphabet = alphabet\r\n",
        "        self._states = states\r\n",
        "        self._initial_state = initial_state\r\n",
        "        self._accepting_states = accepting_states\r\n",
        "        self._transition_function = transition_function\r\n",
        "\r\n",
        "    def accept(self, word: Union[List[str], str]) -> bool:\r\n",
        "        \"\"\"\r\n",
        "        Check whether the acceptor accepts the word(iteratively).\r\n",
        "        \r\n",
        "        :param word: the list of symbols.\r\n",
        "        :return: True if the acceptor accepts the word, False if not.\r\n",
        "        \"\"\"\r\n",
        "\r\n",
        "        curr_state = self._initial_state\r\n",
        "\r\n",
        "        for symbol in word:\r\n",
        "\r\n",
        "            if symbol not in self._alphabet:\r\n",
        "                return False\r\n",
        "\r\n",
        "            elif self._transition_function.get(curr_state).get(symbol) is not None:\r\n",
        "                curr_state = self._transition_function.get(curr_state).get(symbol)\r\n",
        "\r\n",
        "            else:\r\n",
        "                return False\r\n",
        "        return curr_state in self._accepting_states\r\n",
        "    \r\n",
        "    def accept_reccursive(self, word):\r\n",
        "        \"\"\"\r\n",
        "        Check whether the acceptor accepts the word(recursively).\r\n",
        "\r\n",
        "        :param word: the list of symbols.\r\n",
        "        :return: True if the acceptor accepts the word, False if not.\r\n",
        "        \"\"\"\r\n",
        "        def rec(word, curr_state):\r\n",
        "\r\n",
        "            if len(word) == 0:\r\n",
        "                return curr_state in self._accepting_states\r\n",
        "        \r\n",
        "            else:\r\n",
        "                curr_state = self._transition_function[curr_state][word[0]]\r\n",
        "                return rec(word[1::], curr_state)\r\n",
        "        \r\n",
        "        return rec(word, self._initial_state)\r\n",
        "      \r\n",
        "\r\n",
        "    @property\r\n",
        "    def alphabet(self):\r\n",
        "        return self._alphabet\r\n",
        "    \r\n",
        "    @property\r\n",
        "    def states(self):\r\n",
        "        return self._states\r\n",
        "      \r\n",
        "    @property\r\n",
        "    def initial_state(self):\r\n",
        "        return self._initial_state\r\n",
        "    \r\n",
        "    @property\r\n",
        "    def accepting_states(self):\r\n",
        "        return self._accepting_states\r\n",
        "    \r\n",
        "    @property\r\n",
        "    def transition_function(self):\r\n",
        "        return self._transition_function\r\n",
        "\r\n",
        "\r\n",
        "# Example of simple acceptor that accepts series of 1s and 0s if it is even number of 1s in series\r\n",
        "alphabet = {\"1\", \"0\"}\r\n",
        "states = {\"even\", \"odd\", \"s3\", \"s4\"}\r\n",
        "initial_state = \"even\"\r\n",
        "accepting_states = {\"even\"}\r\n",
        "transition_function = {\r\n",
        "    \"even\": {\r\n",
        "        \"0\": \"even\",\r\n",
        "        \"1\": \"odd\"\r\n",
        "    },\r\n",
        "    \"odd\": {\r\n",
        "        \"0\": \"odd\",\r\n",
        "        \"1\": \"even\"\r\n",
        "    },\r\n",
        "}\r\n",
        "even_ones = Acceptor(alphabet, states, initial_state, accepting_states, transition_function)\r\n",
        "words = [\"1101111\", \"1101011101\", \"100010101110101\"]\r\n",
        "tuple(even_ones.accept(word) for word in words)\r\n"
      ],
      "execution_count": null,
      "outputs": [
        {
          "output_type": "execute_result",
          "data": {
            "text/plain": [
              "(True, False, True)"
            ]
          },
          "metadata": {
            "tags": []
          },
          "execution_count": 1
        }
      ]
    },
    {
      "cell_type": "markdown",
      "metadata": {
        "id": "SIhQXPDETVXp"
      },
      "source": [
        "#Delete unreachable states\r\n",
        "\r\n",
        "The state $\\mathcal{s}$  of acceptor called unreachable if no string $\\mathcal{w} \\in \\Sigma^*$ for wich $p = \\delta^*(\\mathcal{s_0}, w)$ \r\n",
        "\r\n",
        "Algorithm\r\n",
        "\r\n",
        "1. Defined reachable states set as $\\{\\mathcal{s_0}\\}$ and new states set as $\\{\\mathcal{s_0}\\}$\r\n",
        "2.  While new states not empty, we iterate throught all $ a \\in \\Sigma$ and add all $\\delta(\\mathcal{s}, a)$ to new states set if its not in reacheble states set, and then add to reachable states set, for each $\\mathcal{s}$ in states set.\r\n",
        "3. repeat 2\r\n",
        "4. states = states - reachable_states "
      ]
    },
    {
      "cell_type": "code",
      "metadata": {
        "id": "RQgETe46Tmup",
        "colab": {
          "base_uri": "https://localhost:8080/"
        },
        "outputId": "968825cd-eec8-4fab-d065-8b399ba076a7"
      },
      "source": [
        "def reachable(acceptor: Acceptor):\r\n",
        "    \"\"\"\r\n",
        "    Delete all unreacheble states from acceptor\r\n",
        "\r\n",
        "    :param acceptor: acceptor in wich we want to delete unreachable states\r\n",
        "    :return: new acceptor without unreacheble states\r\n",
        "    \"\"\"\r\n",
        "    reachable_states = {acceptor.initial_state}\r\n",
        "    states = {acceptor.initial_state}\r\n",
        "\r\n",
        "    while states:\r\n",
        "        temp = {acceptor.transition_function[state][symbol] for state in states for symbol in acceptor.alphabet}\r\n",
        "        states = temp - reachable_states\r\n",
        "        reachable_states = reachable_states | states\r\n",
        "    \r\n",
        "    return Acceptor(acceptor.alphabet, reachable_states, acceptor.initial_state, acceptor.accepting_states, acceptor.transition_function)\r\n",
        "\r\n",
        "print(even_ones.states)\r\n",
        "even_ones = reachable(even_ones)\r\n",
        "even_ones.states"
      ],
      "execution_count": null,
      "outputs": [
        {
          "output_type": "stream",
          "text": [
            "{'s3', 's4', 'even', 'odd'}\n"
          ],
          "name": "stdout"
        },
        {
          "output_type": "execute_result",
          "data": {
            "text/plain": [
              "{'even', 'odd'}"
            ]
          },
          "metadata": {
            "tags": []
          },
          "execution_count": 2
        }
      ]
    },
    {
      "cell_type": "markdown",
      "metadata": {
        "id": "o8MLQBagy0aJ"
      },
      "source": [
        ""
      ]
    },
    {
      "cell_type": "code",
      "metadata": {
        "id": "tjzBU2K2Tp6c",
        "colab": {
          "base_uri": "https://localhost:8080/"
        },
        "outputId": "cf9cc865-b0bd-439b-f16f-aed32615d8b8"
      },
      "source": [
        "import queue\r\n",
        "def reduction(acceptor: Acceptor):\r\n",
        "    def split(state_class, states, symbol):\r\n",
        "        return {state_class_1 for state_class_1 in state_class\r\n",
        "                if acceptor.transition_function[state_class_1][symbol] in states}, \\\r\n",
        "               {state_class_2 for state_class_2 in state_class\r\n",
        "                if acceptor.transition_function[state_class_2][symbol] not in states}\r\n",
        "\r\n",
        "    classes: List[Set[str]] = [acceptor.accepting_states, acceptor.states - acceptor.accepting_states]\r\n",
        "    states_symbol_pairs_queue = queue.Queue()\r\n",
        "    for symbol in acceptor.alphabet:\r\n",
        "        states_symbol_pairs_queue.put((acceptor.accepting_states, symbol))\r\n",
        "        states_symbol_pairs_queue.put((acceptor.states - acceptor.accepting_states, symbol))\r\n",
        "    while not states_symbol_pairs_queue.empty():\r\n",
        "        (states, symbol) = states_symbol_pairs_queue.get()\r\n",
        "        for state_class in classes:\r\n",
        "            state_class_1, state_class_2 = split(state_class, states, symbol)\r\n",
        "            if state_class_1 and state_class_2:\r\n",
        "                classes.remove(state_class)\r\n",
        "                classes.append(state_class_1)\r\n",
        "                classes.append(state_class_2)\r\n",
        "                for token in acceptor.alphabet:\r\n",
        "                    states_symbol_pairs_queue.put((state_class_1, token))\r\n",
        "                    states_symbol_pairs_queue.put((state_class_2, token))\r\n",
        "    new_states = {state_class.pop() for state_class in classes}\r\n",
        "    return Acceptor(acceptor.alphabet, new_states, acceptor.initial_state, acceptor.accepting_states, acceptor.transition_function)\r\n",
        "  \r\n",
        "alphabet = {\"1\", \"0\"}\r\n",
        "states = {\"even\", \"odd\", \"odd2\" \"s3\", \"s4\"}\r\n",
        "initial_state = \"even\"\r\n",
        "accepting_states = {\"even\"}\r\n",
        "transition_function = {\r\n",
        "    \"even\": {\r\n",
        "        \"0\": \"even\",\r\n",
        "        \"1\": \"odd\"\r\n",
        "    },\r\n",
        "    \"odd\": {\r\n",
        "        \"0\": \"odd2\",\r\n",
        "        \"1\": \"even\"\r\n",
        "    },\r\n",
        "    \"odd2\": {\r\n",
        "        \"0\": \"odd\",\r\n",
        "        \"1\": \"even\"\r\n",
        "    }\r\n",
        "}\r\n",
        "\r\n",
        "acc = Acceptor(alphabet, states, initial_state, accepting_states, transition_function)\r\n",
        "print(acc.states)\r\n",
        "acc = reachable(acc)\r\n",
        "print(acc.states)\r\n",
        "acc = reduction(acc)\r\n",
        "print(acc.states)"
      ],
      "execution_count": 8,
      "outputs": [
        {
          "output_type": "stream",
          "text": [
            "{'odd2s3', 's4', 'even', 'odd'}\n",
            "{'odd2', 'even', 'odd'}\n",
            "{'odd2', 'even'}\n"
          ],
          "name": "stdout"
        }
      ]
    },
    {
      "cell_type": "code",
      "metadata": {
        "id": "QO5aGidxX3KQ"
      },
      "source": [
        ""
      ],
      "execution_count": null,
      "outputs": []
    }
  ]
}
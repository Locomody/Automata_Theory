{
  "nbformat": 4,
  "nbformat_minor": 0,
  "metadata": {
    "colab": {
      "name": "tictactoe.ipynb",
      "provenance": []
    },
    "kernelspec": {
      "name": "python3",
      "display_name": "Python 3"
    }
  },
  "cells": [
    {
      "cell_type": "code",
      "metadata": {
        "id": "ELvoeBf80B1h"
      },
      "source": [
        "from itertools import product\r\n",
        "\r\n",
        "class Automaton:\r\n",
        "    __input_aplhbet = []\r\n",
        "    __final_states = []\r\n",
        "    __initial_state = None\r\n",
        "    __current_state = None\r\n",
        "\r\n",
        "    def __init__(self):\r\n",
        "      self.__input_aplhbet = [i for i in range(10)]\r\n",
        "      self.__final_states = [p for p in product([\"X\", \"O\"],[state for state in product([\"X\", \"O\"], repeat=9)])]\r\n",
        "      self.__initial_state = (\"X\", [\"+\"]*9)\r\n",
        "      self.__current_state = self.__initial_state\r\n",
        "    \r\n",
        "    def is_final_state(self):\r\n",
        "      return True if self.__current_state in __final_states else False\r\n",
        "    \r\n",
        "    def next_state(self, input_word):\r\n",
        "      if input_word not in self.__input_alphabet:\r\n",
        "        return \"Word is not correct!\"\r\n",
        "      if self.__current_state[input_word] != \"+\":\r\n",
        "        return \"Word is not correct for current state!\"\r\n",
        "      else:\r\n",
        "        self.__current_state[1][input_word] = \"O\" if self.__current_state[0] == \"X\" else \"X\"\r\n",
        "        self.__current_state[0] = \"O\" if self.__current_state[0] == \"X\" else \"X\"\r\n",
        "        return self.__current_state \r\n",
        "      \r\n",
        "\r\n",
        "\r\n"
      ],
      "execution_count": 1,
      "outputs": []
    },
    {
      "cell_type": "code",
      "metadata": {
        "id": "qCds-xRXMYyZ"
      },
      "source": [
        ""
      ],
      "execution_count": null,
      "outputs": []
    }
  ]
}
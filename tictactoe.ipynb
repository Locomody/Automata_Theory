{
  "nbformat": 4,
  "nbformat_minor": 0,
  "metadata": {
    "colab": {
      "name": "tictactoe.ipynb",
      "provenance": [],
      "authorship_tag": "ABX9TyP1l9QekH4G3fbU7xz8dWA1",
      "include_colab_link": true
    },
    "kernelspec": {
      "name": "python3",
      "display_name": "Python 3"
    }
  },
  "cells": [
    {
      "cell_type": "markdown",
      "metadata": {
        "id": "view-in-github",
        "colab_type": "text"
      },
      "source": [
        "<a href=\"https://colab.research.google.com/github/Locomody/Automata_Theory/blob/main/tictactoe.ipynb\" target=\"_parent\"><img src=\"https://colab.research.google.com/assets/colab-badge.svg\" alt=\"Open In Colab\"/></a>"
      ]
    },
    {
      "cell_type": "markdown",
      "metadata": {
        "id": "klLj7aVEU9dM"
      },
      "source": [
        "#Mathematical Background\r\n",
        "We assume acceptor $\\mathcal{A} =(\\Sigma, \\mathcal{S}, s_0 \\in \\mathcal{S}, \\mathcal{F} \\subset \\mathcal{S}, \\delta: \\mathcal{S} \\times \\Sigma \\rightarrow \\mathcal{S})$, that implements a tic-tac-toe game where:\r\n",
        "\r\n",
        "* $\\Sigma$ - input alphabet, consist of numbers $\\{1...9\\}$  \r\n",
        "* $\\mathcal{S}$ - set of states that consist of all combinations of set of gamers: G = $\\{\"X\", \"O\"\\}$, and set of board states: B = $\\{\\langle a_1,...,a_9\\rangle \\mid a_i \\in \\{\"X\", \"O\"\\}\\bigcup \\Sigma ,\\quad i = 1...9\\}$ \r\n",
        "* $s_0 \\in \\mathcal{S}$ - is initial state $\\{\"X\",\\langle 1,...,9\\rangle\\}$\r\n",
        "* $\\mathcal{F} \\subset \\mathcal{S}$ - set of final states, consists of states in which there is a winning combination on the board: three in a row (horizontal, vertical and diagonal)\r\n",
        "* $\\delta: \\mathcal{S} \\times \\Sigma \\rightarrow \\mathcal{S}$ - transition fucntion, $\\delta(\\{\"X\",\\langle a_1,...,a_i,...,a_9\\rangle\\}, i) = \\{\"O\",\\langle a_1,...,\"X\",...,a_9\\rangle\\}$\r\n",
        "$\\delta(\\{\"O\",\\langle a_1,...,a_i,...,a_9\\rangle\\}, i) = \\{\"X\",\\langle a_1,...,\"O\",...,a_9\\rangle\\}$\r\n",
        "\r\n"
      ]
    },
    {
      "cell_type": "code",
      "metadata": {
        "id": "ax-GVY8nVeSd"
      },
      "source": [
        ""
      ],
      "execution_count": null,
      "outputs": []
    }
  ]
}
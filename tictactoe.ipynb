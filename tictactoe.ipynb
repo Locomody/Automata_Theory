{
  "nbformat": 4,
  "nbformat_minor": 0,
  "metadata": {
    "colab": {
      "name": "tictactoe.ipynb",
      "provenance": [],
      "authorship_tag": "ABX9TyNo8lORUZAOQLd8eCjVVfkm",
      "include_colab_link": true
    },
    "kernelspec": {
      "name": "python3",
      "display_name": "Python 3"
    }
  },
  "cells": [
    {
      "cell_type": "markdown",
      "metadata": {
        "id": "view-in-github",
        "colab_type": "text"
      },
      "source": [
        "<a href=\"https://colab.research.google.com/github/Locomody/Automata_Theory/blob/main/tictactoe.ipynb\" target=\"_parent\"><img src=\"https://colab.research.google.com/assets/colab-badge.svg\" alt=\"Open In Colab\"/></a>"
      ]
    },
    {
      "cell_type": "markdown",
      "metadata": {
        "id": "klLj7aVEU9dM"
      },
      "source": [
        "#Mathematical Background\r\n",
        "We assume acceptor $\\mathcal{A} =(\\Sigma, \\mathcal{S}, s_0 \\in \\mathcal{S}, \\mathcal{F} \\subset \\mathcal{S}, \\delta: \\mathcal{S} \\times \\Sigma \\rightarrow \\mathcal{S})$, that implementы a tic-tac-toe game where:\r\n",
        "\r\n",
        "* $\\Sigma$ - input alphabet, consist of numbers $\\{1...9\\}$  \r\n",
        "* $\\mathcal{S}$ - set of states that consist of all combinations of set of gamers: G = $\\{\"X\", \"O\"\\}$, and set of board states: B = $\\{\\langle a_1,...,a_9\\rangle \\mid a_i \\in \\{\"X\", \"O\"\\}\\bigcup \\Sigma ,\\quad i = 1...9\\}$ \r\n",
        "* $s_0 \\in \\mathcal{S}$ - is initial state $\\{\"X\",\\langle 1,...,9\\rangle\\}$\r\n",
        "* $\\mathcal{F} \\subset \\mathcal{S}$ - set of final states, consists of states in which there is a winning combination on the board: three in a row (horizontal, vertical and diagonal)\r\n",
        "* $\\delta: \\mathcal{S} \\times \\Sigma \\rightarrow \\mathcal{S}$ - transition fucntion, $\\delta(\\{\"X\",\\langle a_1,...,a_i,...,a_9\\rangle\\}, i) = \\{\"O\",\\langle a_1,...,\"X\",...,a_9\\rangle\\}$\r\n",
        "$\\delta(\\{\"O\",\\langle a_1,...,a_i,...,a_9\\rangle\\}, i) = \\{\"X\",\\langle a_1,...,\"O\",...,a_9\\rangle\\}$"
      ]
    },
    {
      "cell_type": "markdown",
      "metadata": {
        "id": "MoO3c82F-DC1"
      },
      "source": [
        "#Implementation Explanation\r\n",
        "\r\n",
        "\r\n",
        "##Board\r\n",
        "* Class Board represents the game board. Incapsulates an array represented game board state, and overloaded methods to manipulate the game board. Also represent a view module from MVC pattern.\r\n",
        "\r\n",
        "##State\r\n",
        "* Class State represents the game state. Incapsulates game board state and player whose turn now\r\n",
        "\r\n",
        "##TicTacToe\r\n",
        "* Class TicTacToe implements a tic-tac-toe automaton. Incapsulates input alphabet ($\\Sigma$), initial state ($s_0$),current state ($s_i$) and two methods, method next_state that implements $\\delta$ transition function, and method is_final_state, that implemets checking if the item is in final states set ($\\mathcal{F}$). Also represent a model module from MVC pattern.\r\n",
        "\r\n",
        "##Main\r\n",
        "* Implemets a controller module from MVC pattern "
      ]
    },
    {
      "cell_type": "code",
      "metadata": {
        "colab": {
          "base_uri": "https://localhost:8080/",
          "height": 1000
        },
        "id": "hcbQF1YXCRJu",
        "outputId": "abe2b564-cdaf-46f4-996f-4dbca3779177"
      },
      "source": [
        "from typing import Union, List, Set\r\n",
        "\r\n",
        "\r\n",
        "class Board:\r\n",
        "\r\n",
        "    def __init__(self, board: List[Union[int, str]]) -> None:\r\n",
        "        self.__board = board\r\n",
        "\r\n",
        "    def __getitem__(self, item: int) -> Union[int, str]:\r\n",
        "        return self.__board[item]\r\n",
        "\r\n",
        "    def __setitem__(self, key: int, value: str) -> None:\r\n",
        "        self.__board[key] = value\r\n",
        "\r\n",
        "    def __str__(self) -> str:\r\n",
        "        string = f\"\"\"------- CURRENT BOARD STATE --------\r\n",
        "|                                  |\r\n",
        "|     {self.__board[0]}          {self.__board[1]}          {self.__board[2]}      |\r\n",
        "|                                  |\r\n",
        "|     {self.__board[3]}          {self.__board[4]}          {self.__board[5]}      |\r\n",
        "|                                  |\r\n",
        "|     {self.__board[6]}          {self.__board[7]}          {self.__board[8]}      |\r\n",
        "|                                  |\r\n",
        "------- CURRENT BOARD STATE --------\"\"\"\r\n",
        "        return string\r\n",
        "\r\n",
        "class State:\r\n",
        "\r\n",
        "    def __init__(self, player: str, board: Board) -> None:\r\n",
        "        self.player: str = player\r\n",
        "        self.board: Board = board\r\n",
        "\r\n",
        "\r\n",
        "class TicTacToe:\r\n",
        "\r\n",
        "    def __init__(self) -> None:\r\n",
        "        self.__input_alphabet: Set[int] = {i for i in range(1, 10)}\r\n",
        "        self.__initial_state: State = State(\"X\", Board([i for i in range(1, 10)]))\r\n",
        "        self.__current_state: State = self.__initial_state\r\n",
        "\r\n",
        "    def next_sate(self, coords: int) -> Union[Board, str]:\r\n",
        "        if coords not in self.__input_alphabet:\r\n",
        "            return \"Oops\"\r\n",
        "\r\n",
        "        elif self.__current_state.board[coords - 1] not in self.__input_alphabet:\r\n",
        "            return \"Oops\"\r\n",
        "\r\n",
        "        else:\r\n",
        "            self.__current_state.board[coords - 1] = self.__current_state.player\r\n",
        "            self.__current_state.player = \"O\" if self.__current_state.player == \"X\" else \"X\"\r\n",
        "            return self.__current_state.board\r\n",
        "\r\n",
        "    def is_final_state(self) -> bool:\r\n",
        "        combinations = (\r\n",
        "            (0, 1, 2),\r\n",
        "            (3, 4, 5),\r\n",
        "            (6, 7, 8),\r\n",
        "            # horizontal\r\n",
        "            (0, 3, 6),\r\n",
        "            (1, 4, 7),\r\n",
        "            (2, 5, 8),\r\n",
        "            # vertical\r\n",
        "            (0, 4, 8),\r\n",
        "            (2, 4, 6)\r\n",
        "            # diagonal\r\n",
        "        )\r\n",
        "        for combination in combinations:\r\n",
        "            if self.__current_state.board[combination[0]] == self.__current_state.board[combination[1]] \\\r\n",
        "                    and self.__current_state.board[combination[0]] == self.__current_state.board[combination[2]]:\r\n",
        "                return True\r\n",
        "        return False\r\n",
        "\r\n",
        "\r\n",
        "if __name__ == \"__main__\":\r\n",
        "    print(\"Type: grab [coordinate], to insert symbol in cell, \\\r\n",
        "    automaton itself decides which character to insert \")\r\n",
        "    game = TicTacToe()\r\n",
        "    board = Board([i for i in range(1, 10)])\r\n",
        "    print(board)\r\n",
        "\r\n",
        "    while not game.is_final_state():\r\n",
        "        try:\r\n",
        "            command, coord = input(\"Type coordinate:\\n\").split()\r\n",
        "            if command == \"grab\":\r\n",
        "                board = game.next_sate(int(coord))\r\n",
        "                print(board)\r\n",
        "            else:\r\n",
        "                print(\"Bad command. Try again.\")\r\n",
        "        except ValueError:\r\n",
        "            print(\"No command input or bad coordinate.Try again\")\r\n",
        "            continue\r\n"
      ],
      "execution_count": 1,
      "outputs": [
        {
          "output_type": "stream",
          "text": [
            "Type: grab [coordinate], to insert symbol in cell,     automaton itself decides which character to insert \n",
            "------- CURRENT BOARD STATE --------\n",
            "|                                  |\n",
            "|     1          2          3      |\n",
            "|                                  |\n",
            "|     4          5          6      |\n",
            "|                                  |\n",
            "|     7          8          9      |\n",
            "|                                  |\n",
            "------- CURRENT BOARD STATE --------\n",
            "Type coordinate:\n",
            "grab 1\n",
            "------- CURRENT BOARD STATE --------\n",
            "|                                  |\n",
            "|     X          2          3      |\n",
            "|                                  |\n",
            "|     4          5          6      |\n",
            "|                                  |\n",
            "|     7          8          9      |\n",
            "|                                  |\n",
            "------- CURRENT BOARD STATE --------\n",
            "Type coordinate:\n",
            "grab 2\n",
            "------- CURRENT BOARD STATE --------\n",
            "|                                  |\n",
            "|     X          O          3      |\n",
            "|                                  |\n",
            "|     4          5          6      |\n",
            "|                                  |\n",
            "|     7          8          9      |\n",
            "|                                  |\n",
            "------- CURRENT BOARD STATE --------\n",
            "Type coordinate:\n",
            "grab 3\n",
            "------- CURRENT BOARD STATE --------\n",
            "|                                  |\n",
            "|     X          O          X      |\n",
            "|                                  |\n",
            "|     4          5          6      |\n",
            "|                                  |\n",
            "|     7          8          9      |\n",
            "|                                  |\n",
            "------- CURRENT BOARD STATE --------\n",
            "Type coordinate:\n",
            "grag5\n",
            "No command input.Try again\n",
            "Type coordinate:\n",
            "grab 5\n",
            "------- CURRENT BOARD STATE --------\n",
            "|                                  |\n",
            "|     X          O          X      |\n",
            "|                                  |\n",
            "|     4          O          6      |\n",
            "|                                  |\n",
            "|     7          8          9      |\n",
            "|                                  |\n",
            "------- CURRENT BOARD STATE --------\n",
            "Type coordinate:\n",
            "grab 2\n",
            "Oops\n",
            "Type coordinate:\n",
            "grab c\n"
          ],
          "name": "stdout"
        },
        {
          "output_type": "error",
          "ename": "ValueError",
          "evalue": "ignored",
          "traceback": [
            "\u001b[0;31m---------------------------------------------------------------------------\u001b[0m",
            "\u001b[0;31mValueError\u001b[0m                                Traceback (most recent call last)",
            "\u001b[0;32m<ipython-input-1-8a36219c5f4a>\u001b[0m in \u001b[0;36m<module>\u001b[0;34m()\u001b[0m\n\u001b[1;32m     84\u001b[0m             \u001b[0;32mcontinue\u001b[0m\u001b[0;34m\u001b[0m\u001b[0;34m\u001b[0m\u001b[0m\n\u001b[1;32m     85\u001b[0m         \u001b[0;32mif\u001b[0m \u001b[0mcommand\u001b[0m \u001b[0;34m==\u001b[0m \u001b[0;34m\"grab\"\u001b[0m\u001b[0;34m:\u001b[0m\u001b[0;34m\u001b[0m\u001b[0;34m\u001b[0m\u001b[0m\n\u001b[0;32m---> 86\u001b[0;31m             \u001b[0mboard\u001b[0m \u001b[0;34m=\u001b[0m \u001b[0mgame\u001b[0m\u001b[0;34m.\u001b[0m\u001b[0mnext_sate\u001b[0m\u001b[0;34m(\u001b[0m\u001b[0mint\u001b[0m\u001b[0;34m(\u001b[0m\u001b[0mcoord\u001b[0m\u001b[0;34m)\u001b[0m\u001b[0;34m)\u001b[0m\u001b[0;34m\u001b[0m\u001b[0;34m\u001b[0m\u001b[0m\n\u001b[0m\u001b[1;32m     87\u001b[0m             \u001b[0mprint\u001b[0m\u001b[0;34m(\u001b[0m\u001b[0mboard\u001b[0m\u001b[0;34m)\u001b[0m\u001b[0;34m\u001b[0m\u001b[0;34m\u001b[0m\u001b[0m\n\u001b[1;32m     88\u001b[0m         \u001b[0;32melse\u001b[0m\u001b[0;34m:\u001b[0m\u001b[0;34m\u001b[0m\u001b[0;34m\u001b[0m\u001b[0m\n",
            "\u001b[0;31mValueError\u001b[0m: invalid literal for int() with base 10: 'c'"
          ]
        }
      ]
    },
    {
      "cell_type": "code",
      "metadata": {
        "id": "Wk_VHIqWCUVM"
      },
      "source": [
        ""
      ],
      "execution_count": null,
      "outputs": []
    }
  ]
}
{
  "nbformat": 4,
  "nbformat_minor": 0,
  "metadata": {
    "colab": {
      "name": "tictactoe.ipynb",
      "provenance": [],
      "authorship_tag": "ABX9TyP0CozuHdvHhK3ZrE9S0uMr",
      "include_colab_link": true
    },
    "kernelspec": {
      "name": "python3",
      "display_name": "Python 3"
    }
  },
  "cells": [
    {
      "cell_type": "markdown",
      "metadata": {
        "id": "view-in-github",
        "colab_type": "text"
      },
      "source": [
        "<a href=\"https://colab.research.google.com/github/Locomody/Automata_Theory/blob/main/tictactoe.ipynb\" target=\"_parent\"><img src=\"https://colab.research.google.com/assets/colab-badge.svg\" alt=\"Open In Colab\"/></a>"
      ]
    },
    {
      "cell_type": "markdown",
      "metadata": {
        "id": "klLj7aVEU9dM"
      },
      "source": [
        "#Mathematical Background\r\n",
        "We assume acceptor $\\mathcal{A} =(\\Sigma, \\  \\mathcal{S}, \\  s_0 \\in \\mathcal{S}, \\  \\mathcal{F} \\subset \\mathcal{S}, \\  \\delta: \\mathcal{S} \\times \\Sigma \\rightarrow \\mathcal{S})$, that implements a tic-tac-toe game where:\r\n",
        "\r\n",
        "* $\\Sigma$ - input alphabet, consist of numbers $\\ \\{1...9\\}$  \r\n",
        "\r\n",
        "* $\\mathcal{S}$ - set of states that consist of all combinations of set of players: $\\ \\mathcal{P} = \\ \\{\"X\", \"O\"\\}$, and set of board states: $\\ \\mathcal{B} = \\{\\langle a_1,...,a_9\\rangle \\mid a_i \\in \\{\"X\", \"O\"\\}\\bigcup \\Sigma ,\\ i = 1...9\\}$ \r\n",
        "\r\n",
        "* $s_0 \\in \\mathcal{S}$ - is initial state $\\ \\{\"X\",\\langle 1,...,9\\rangle\\}$\r\n",
        "\r\n",
        "* $\\mathcal{F} \\subset \\mathcal{S}$ - set of final states, consists of states in which there is a winning combination on the board: three in a row (horizontal, vertical and diagonal) and draw combinations.\r\n",
        "\r\n",
        "* $\\delta: \\mathcal{S} \\times \\Sigma \\rightarrow \\mathcal{S}$ - transition fucntion: \r\n",
        "$$\\delta(\\{\"X\",\\langle a_1,...,a_i,...,a_9\\rangle\\}, i) = \\{\"O\",\\langle a_1,...,\"X\",...,a_9\\rangle\\}$$\r\n",
        "$$\\delta(\\{\"O\",\\langle a_1,...,a_i,...,a_9\\rangle\\}, i) = \\{\"X\",\\langle a_1,...,\"O\",...,a_9\\rangle\\}$$"
      ]
    },
    {
      "cell_type": "markdown",
      "metadata": {
        "id": "MoO3c82F-DC1"
      },
      "source": [
        "#Implementation Explanation\r\n",
        "\r\n",
        "\r\n",
        "##Board\r\n",
        "* Class Board represents the game board. Incapsulates an array represented game board state, and overloaded methods to manipulate the game board. Also represent a view module from MVC pattern.\r\n",
        "\r\n",
        "##State\r\n",
        "* Class State represents the game state. Incapsulates game board state and player whose turn now\r\n",
        "\r\n",
        "##TicTacToe\r\n",
        "* Class TicTacToe implements a tic-tac-toe automaton. Incapsulates input alphabet ($\\Sigma$), initial state ($s_0$),current state ($s_i$) and two methods, method next_state that implements $\\delta$ transition function, and method is_final_state, that implemets checking if the item is in final states set ($\\mathcal{F}$). Also represent a model module from MVC pattern.\r\n",
        "\r\n",
        "##Main\r\n",
        "* Implemets a controller module from MVC pattern "
      ]
    },
    {
      "cell_type": "code",
      "metadata": {
        "id": "hcbQF1YXCRJu"
      },
      "source": [
        "from typing import Union, List, Set\r\n",
        "from itertools import product\r\n",
        "\r\n",
        "\r\n",
        "class Board:\r\n",
        "\r\n",
        "    def __init__(self, board: List[Union[int, str]]) -> None:\r\n",
        "        self.__board = board\r\n",
        "\r\n",
        "    def __getitem__(self, item: int) -> Union[int, str]:\r\n",
        "        return self.__board[item]\r\n",
        "\r\n",
        "    def __setitem__(self, key: int, value: str) -> None:\r\n",
        "        self.__board[key] = value\r\n",
        "\r\n",
        "    def __eq__(self, other):\r\n",
        "        return self.__board == other.__board\r\n",
        "\r\n",
        "    def __str__(self) -> str:\r\n",
        "        string = f\"\"\"------- CURRENT BOARD STATE --------\r\n",
        "|                                  |\r\n",
        "|     {self.__board[0]}          {self.__board[1]}          {self.__board[2]}      |\r\n",
        "|                                  |\r\n",
        "|     {self.__board[3]}          {self.__board[4]}          {self.__board[5]}      |\r\n",
        "|                                  |\r\n",
        "|     {self.__board[6]}          {self.__board[7]}          {self.__board[8]}      |\r\n",
        "|                                  |\r\n",
        "------- CURRENT BOARD STATE --------\"\"\"\r\n",
        "        return string\r\n",
        "\r\n",
        "\r\n",
        "class State:\r\n",
        "\r\n",
        "    def __init__(self, player: str, board: Board) -> None:\r\n",
        "        self.player: str = player\r\n",
        "        self.board: Board = board\r\n",
        "\r\n",
        "\r\n",
        "class TicTacToe:\r\n",
        "\r\n",
        "    def __init__(self) -> None:\r\n",
        "        self.__input_alphabet: Set[int] = {i for i in range(1, 10)}\r\n",
        "        self.__initial_state: State = State(\"X\", Board([i for i in range(1, 10)]))\r\n",
        "        self.__current_state: State = self.__initial_state\r\n",
        "        # forms all draw states\r\n",
        "        self.__draw_games = [Board(list(state)) for state in product((\"X\", \"O\"), repeat=9)]\r\n",
        "\r\n",
        "    def next_sate(self, coords: int) -> Union[Board, str]:\r\n",
        "        if coords not in self.__input_alphabet:\r\n",
        "            return \"Oops\"\r\n",
        "\r\n",
        "        elif self.__current_state.board[coords - 1] not in self.__input_alphabet:\r\n",
        "            return \"Oops\"\r\n",
        "\r\n",
        "        else:\r\n",
        "            self.__current_state.board[coords - 1] = self.__current_state.player\r\n",
        "            self.__current_state.player = \"O\" if self.__current_state.player == \"X\" else \"X\"\r\n",
        "            return self.__current_state.board\r\n",
        "\r\n",
        "    def is_final_state(self) -> bool:\r\n",
        "        if self.__current_state.board in self.__draw_games:\r\n",
        "            return True\r\n",
        "        # combinations of winning cells\r\n",
        "        combinations = (\r\n",
        "            (0, 1, 2),\r\n",
        "            (3, 4, 5),\r\n",
        "            (6, 7, 8),\r\n",
        "            # horizontal\r\n",
        "            (0, 3, 6),\r\n",
        "            (1, 4, 7),\r\n",
        "            (2, 5, 8),\r\n",
        "            # vertical\r\n",
        "            (0, 4, 8),\r\n",
        "            (2, 4, 6)\r\n",
        "            # diagonal\r\n",
        "        )\r\n",
        "        for combination in combinations:\r\n",
        "            if self.__current_state.board[combination[0]] == \\\r\n",
        "            self.__current_state.board[combination[1]] == \\\r\n",
        "             self.__current_state.board[combination[2]]:\r\n",
        "                return True\r\n",
        "        return False\r\n",
        "\r\n",
        "\r\n",
        "if __name__ == \"__main__\":\r\n",
        "    print(\"Type: grab [coordinate], to insert symbol in cell, \\\r\n",
        "    automaton itself decides which character to insert \")\r\n",
        "    game = TicTacToe()\r\n",
        "    board = Board([i for i in range(1, 10)])\r\n",
        "    print(board)\r\n",
        "\r\n",
        "    while not game.is_final_state():\r\n",
        "        try:\r\n",
        "            command, coord = input(\"Type coordinate:\\n\").split()\r\n",
        "            if command == \"grab\":\r\n",
        "                board = game.next_sate(int(coord))\r\n",
        "                print(board)\r\n",
        "            else:\r\n",
        "                print(\"Bad command. Try again.\")\r\n",
        "        except ValueError:\r\n",
        "            print(\"No command input or bad coordinate.Try again\")\r\n",
        "            continue\r\n"
      ],
      "execution_count": null,
      "outputs": []
    },
    {
      "cell_type": "code",
      "metadata": {
        "id": "a30Q2aVptU2g"
      },
      "source": [
        ""
      ],
      "execution_count": null,
      "outputs": []
    }
  ]
}
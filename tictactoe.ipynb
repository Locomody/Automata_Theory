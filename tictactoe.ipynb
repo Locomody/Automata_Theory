{
  "nbformat": 4,
  "nbformat_minor": 0,
  "metadata": {
    "colab": {
      "name": "tictactoe.ipynb",
      "provenance": []
    },
    "kernelspec": {
      "name": "python3",
      "display_name": "Python 3"
    }
  },
  "cells": [
    {
      "cell_type": "code",
      "metadata": {
        "id": "ELvoeBf80B1h"
      },
      "source": [
        "from itertools import combinations\r\n",
        "\r\n",
        "class Automaton:\r\n",
        "    __input_aplhbet = []\r\n",
        "    #__states = []\r\n",
        "    __final_states = []\r\n",
        "    __initial_state = None\r\n",
        "    current_state = None\r\n",
        "\r\n",
        "    def __init__(self):\r\n",
        "        self.__input_aplhbet = combinations([0,1,2,3,4,5,6,7,8,\"+\", \"o\"], 2)\r\n",
        "        self.__initial_state = (\"+\", [0] * 9)\r\n",
        "        pass\r\n"
      ],
      "execution_count": null,
      "outputs": []
    }
  ]
}